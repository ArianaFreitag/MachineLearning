{
 "cells": [
  {
   "cell_type": "code",
   "execution_count": 22,
   "metadata": {},
   "outputs": [
    {
     "name": "stdout",
     "output_type": "stream",
     "text": [
      "Python version 3.6.5 |Anaconda, Inc.| (default, Apr 26 2018, 08:42:37) \n",
      "[GCC 4.2.1 Compatible Clang 4.0.1 (tags/RELEASE_401/final)]\n",
      "Pandas version 0.23.0\n"
     ]
    }
   ],
   "source": [
    "# Ariana Freitag\n",
    "# ECE-475, Professor Sam Keene\n",
    "# Linear Regression: Mean Squared Error and the effect of Lasso and Ridge Regularization\n",
    "# Dataset From: http://users.stat.ufl.edu/~winner/data/berry_sugar_chewy.txt\n",
    "\n",
    "import pandas as pd\n",
    "import numpy as np\n",
    "import statsmodels.api as sm\n",
    "import sys\n",
    "print('Python version ' + sys.version)\n",
    "print('Pandas version ' + pd.__version__)"
   ]
  },
  {
   "cell_type": "code",
   "execution_count": 23,
   "metadata": {
    "collapsed": true
   },
   "outputs": [],
   "source": [
    "data = pd.read_csv(\"/Users/Ariana/Desktop/2018-2019/MachineLearning/train.csv\")\n",
    "dataTest = pd.read_csv(\"/Users/Ariana/Desktop/2018-2019/MachineLearning/holdout.csv\")"
   ]
  },
  {
   "cell_type": "code",
   "execution_count": 27,
   "metadata": {},
   "outputs": [
    {
     "name": "stderr",
     "output_type": "stream",
     "text": [
      "/anaconda3/lib/python3.6/site-packages/pandas/core/frame.py:3137: SettingWithCopyWarning: \n",
      "A value is trying to be set on a copy of a slice from a DataFrame.\n",
      "Try using .loc[row_indexer,col_indexer] = value instead\n",
      "\n",
      "See the caveats in the documentation: http://pandas.pydata.org/pandas-docs/stable/indexing.html#indexing-view-versus-copy\n",
      "  self[k1] = value[k2]\n"
     ]
    }
   ],
   "source": [
    "# assign sugar,nacl and chewiness to X and Y\n",
    "X = data[['sugar','nacl']]\n",
    "y = data['chewiness'].values\n",
    "# non-regularized for linear\n",
    "Xnon = X\n",
    "ynon = y\n",
    "# regularize data\n",
    "cols_to_norm = ['nacl','sugar']\n",
    "X[cols_to_norm] = X[cols_to_norm].apply(lambda x: (x - x.min()) / (x.max() - x.min()))\n",
    "# add ones to x for intercept term \n",
    "int = np.ones(shape=y.shape)[..., None]\n",
    "X = np.concatenate((int, X), 1)\n",
    "Xnon = np.concatenate((int, Xnon), 1)"
   ]
  },
  {
   "cell_type": "code",
   "execution_count": 34,
   "metadata": {},
   "outputs": [
    {
     "data": {
      "image/png": "[encoded data removed]",
      "text/plain": [
       "<Figure size 432x288 with 1 Axes>"
      ]
     },
     "metadata": {},
     "output_type": "display_data"
    },
    {
     "data": {
      "image/png": "[encoded data removed]",
      "text/plain": [
       "<Figure size 432x288 with 1 Axes>"
      ]
     },
     "metadata": {},
     "output_type": "display_data"
    }
   ],
   "source": [
    "# plot training data\n",
    "ax1 = data.plot.scatter(x='sugar', y ='chewiness', c='DarkBlue')\n",
    "ax1 = data.plot.scatter(x='nacl', y ='chewiness', c='red')"
   ]
  },
  {
   "cell_type": "code",
   "execution_count": 28,
   "metadata": {
    "collapsed": true
   },
   "outputs": [],
   "source": [
    "# find beta and predict y\n",
    "from numpy.linalg import inv\n",
    "B = inv(Xnon.transpose().dot(Xnon)).dot(Xnon.transpose()).dot(ynon)\n",
    "ypred = Xnon.dot(B)"
   ]
  },
  {
   "cell_type": "code",
   "execution_count": 29,
   "metadata": {},
   "outputs": [
    {
     "data": {
      "text/plain": [
       "0.7214076226426985"
      ]
     },
     "execution_count": 29,
     "metadata": {},
     "output_type": "execute_result"
    }
   ],
   "source": [
    "#get RMSE on beta with no penalty\n",
    "from sklearn.metrics import mean_squared_error\n",
    "mse1 = mean_squared_error(ynon, ypred)\n",
    "mse1"
   ]
  },
  {
   "cell_type": "code",
   "execution_count": 6,
   "metadata": {},
   "outputs": [],
   "source": [
    "# find lambda using ridge\n",
    "from numpy.linalg import inv\n",
    "I = np.identity(3)\n",
    "lam = np.array([[0.0001, 0.0001, 0.0001], [0.0001, 0.0001, 0.0001], [0.0001, 0.0001, 0.0001]])\n",
    "B2 = inv((X.transpose().dot(X))-(lam.dot(I))).dot(X.transpose()).dot(y)\n",
    "ypred2 = B2.dot(X.transpose()) # because of dimension agreements"
   ]
  },
  {
   "cell_type": "code",
   "execution_count": 7,
   "metadata": {},
   "outputs": [
    {
     "data": {
      "text/plain": [
       "0.7214076226612525"
      ]
     },
     "execution_count": 7,
     "metadata": {},
     "output_type": "execute_result"
    }
   ],
   "source": [
    "#get MSE on beta with penalty term\n",
    "from sklearn.metrics import mean_squared_error\n",
    "mse2 = mean_squared_error(ypred2, y)\n",
    "mse2"
   ]
  },
  {
   "cell_type": "code",
   "execution_count": 8,
   "metadata": {},
   "outputs": [],
   "source": [
    "# implement lasso to get beta and RMSE (using lib functions :-)\n",
    "from sklearn.linear_model import Lasso\n",
    "lassoReg = Lasso(alpha=0.0005, normalize=True)\n",
    "lassoReg.fit(X,y)\n",
    "ypred3 = lassoReg.predict(X)"
   ]
  },
  {
   "cell_type": "code",
   "execution_count": 12,
   "metadata": {},
   "outputs": [
    {
     "name": "stdout",
     "output_type": "stream",
     "text": [
      "."
     ]
    },
    {
     "data": {
      "image/png": "[encoded data removed]",
      "text/plain": [
       "<Figure size 432x288 with 1 Axes>"
      ]
     },
     "metadata": {},
     "output_type": "display_data"
    }
   ],
   "source": [
    "# do lasso plot\n",
    "import matplotlib.pyplot as plt\n",
    "from sklearn import linear_model\n",
    "_, _, coefs = linear_model.lars_path(X, y, method='lasso', verbose=True)\n",
    "xx = np.sum(np.abs(coefs.T), axis=1)\n",
    "xx /= xx[-1]\n",
    "\n",
    "plt.plot(xx, coefs.T) \n",
    "ymin, ymax = plt.ylim()\n",
    "plt.vlines(xx, ymin, ymax, linestyle='dashed')\n",
    "plt.xlabel('|coef| / max|coef|')\n",
    "plt.ylabel('Coefficients')\n",
    "plt.title('LASSO Path')\n",
    "plt.axis('tight')\n",
    "plt.show()"
   ]
  },
  {
   "cell_type": "code",
   "execution_count": 13,
   "metadata": {},
   "outputs": [
    {
     "data": {
      "text/plain": [
       "0.7290639564517697"
      ]
     },
     "execution_count": 13,
     "metadata": {},
     "output_type": "execute_result"
    }
   ],
   "source": [
    "# get MSE for lasso -- gives a number that doesn't make sense\n",
    "from sklearn.metrics import mean_squared_error\n",
    "mse3 = mean_squared_error(ypred3, y)\n",
    "mse3"
   ]
  },
  {
   "cell_type": "code",
   "execution_count": 14,
   "metadata": {},
   "outputs": [
    {
     "name": "stderr",
     "output_type": "stream",
     "text": [
      "/anaconda3/lib/python3.6/site-packages/pandas/core/frame.py:3137: SettingWithCopyWarning: \n",
      "A value is trying to be set on a copy of a slice from a DataFrame.\n",
      "Try using .loc[row_indexer,col_indexer] = value instead\n",
      "\n",
      "See the caveats in the documentation: http://pandas.pydata.org/pandas-docs/stable/indexing.html#indexing-view-versus-copy\n",
      "  self[k1] = value[k2]\n"
     ]
    }
   ],
   "source": [
    "# set up holdout set\n",
    "# assign sugar,nacl and chewiness to X and Y\n",
    "Xtest = dataTest[['sugar','nacl']]\n",
    "ytest = dataTest['chewiness'].values\n",
    "# regularize data\n",
    "cols_to_norm = ['nacl','sugar']\n",
    "Xtest[cols_to_norm] = Xtest[cols_to_norm].apply(lambda x: (x - x.min()) / (x.max() - x.min()))\n",
    "# add ones to x for intercept term \n",
    "int = np.ones(shape=ytest.shape)[..., None]\n",
    "Xtest = np.concatenate((int, Xtest), 1)"
   ]
  },
  {
   "cell_type": "code",
   "execution_count": 20,
   "metadata": {},
   "outputs": [
    {
     "name": "stdout",
     "output_type": "stream",
     "text": [
      "1.2347277770454 1.234724372477059 1.234724372477059\n",
      "2.585205263157895 2.7428712103927246 2.74287354526293 2.755053902882969\n"
     ]
    }
   ],
   "source": [
    "# score data sets\n",
    "ytest1 = Xtest.dot(B)\n",
    "msetest1 = mean_squared_error(ytest1, ytest)\n",
    "ytest2 = B2.dot(Xtest.transpose())\n",
    "msetest2 = mean_squared_error(ytest2, ytest)\n",
    "ytest3 = lassoReg.predict(Xtest)\n",
    "msetest3 = mean_squared_error(ytest2, ytest)\n",
    "\n",
    "print(msetest1, msetest2, msetest3) \n",
    "print(ytest.mean(), ytest1.mean(), ytest2.mean(), ytest3.mean())"
   ]
  },
  {
   "cell_type": "code",
   "execution_count": 21,
   "metadata": {
    "collapsed": true
   },
   "outputs": [],
   "source": [
    "# Explaination\n",
    "# The MSE I get from lasso and ridge regularization versus doing no regression, is barely smaller.\n",
    "# I got the best MSE for the train data set using ridge, but on the test set, the three MSEs were all the same.\n",
    "# Ultimately, I think I am not able to determine which model is better, because my dataset only contained 90 observations.\n",
    "# In the future I would pick a larger dataset to use, but at least I learned how to write ML algorithms in python. "
   ]
  },
  {
   "cell_type": "code",
   "execution_count": null,
   "metadata": {
    "collapsed": true
   },
   "outputs": [],
   "source": []
  }
 ],
 "metadata": {
  "kernelspec": {
   "display_name": "Python [conda env:anaconda3]",
   "language": "python",
   "name": "conda-env-anaconda3-py"
  },
  "language_info": {
   "codemirror_mode": {
    "name": "ipython",
    "version": 3
   },
   "file_extension": ".py",
   "mimetype": "text/x-python",
   "name": "python",
   "nbconvert_exporter": "python",
   "pygments_lexer": "ipython3",
   "version": "3.6.5"
  }
 },
 "nbformat": 4,
 "nbformat_minor": 2
}
