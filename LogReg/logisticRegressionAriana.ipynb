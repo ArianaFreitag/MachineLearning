{
 "cells": [
  {
   "cell_type": "code",
   "execution_count": 209,
   "metadata": {},
   "outputs": [
    {
     "name": "stderr",
     "output_type": "stream",
     "text": [
      "/anaconda3/lib/python3.6/site-packages/pandas/core/frame.py:3137: SettingWithCopyWarning: \n",
      "A value is trying to be set on a copy of a slice from a DataFrame.\n",
      "Try using .loc[row_indexer,col_indexer] = value instead\n",
      "\n",
      "See the caveats in the documentation: http://pandas.pydata.org/pandas-docs/stable/indexing.html#indexing-view-versus-copy\n",
      "  self[k1] = value[k2]\n"
     ]
    }
   ],
   "source": [
    "# Ariana Freitag\n",
    "# ECE-475, Professor Sam Keene\n",
    "# Logistic Regression: Implementing a Logistic Regression with Stochastic Gradient Descent\n",
    "# Dataset From: http://users.stat.ufl.edu/~winner/data/apple_juice.dat \n",
    "# Description of Data: http://users.stat.ufl.edu/~winner/data/apple_juice.txt\n",
    "\n",
    "import pandas as pd\n",
    "import numpy as np\n",
    "import statsmodels.api as sm\n",
    "from sklearn.metrics import accuracy_score\n",
    "import matplotlib.pyplot as plt\n",
    "\n",
    "df = pd.read_csv(\"/Users/Ariana/Desktop/2018-2019/MachineLearning/LogReg/appleJuice.csv\")\n",
    "train, validate, test = np.split(df.sample(frac=1), [int(.8*len(df)), int(.9*len(df))])\n",
    "# assign values to X and Y\n",
    "X = train[['pH','Nisin','Temperature','Brix']]\n",
    "y = train['Growth'].values\n",
    "# non-regularized \n",
    "# Xnon = X\n",
    "# Ynon = Y\n",
    "# regularized\n",
    "cols_to_norm = ['pH','Nisin','Temperature','Brix']\n",
    "X[cols_to_norm] = X[cols_to_norm].apply(lambda x: (x - x.min()) / (x.max() - x.min()))\n",
    "\n",
    "# set up validate and test\n",
    "Xv = validate[['pH','Nisin','Temperature','Brix']]\n",
    "yv = validate['Growth'].values\n",
    "cols_to_norm = ['pH','Nisin','Temperature','Brix']\n",
    "Xv[cols_to_norm] = Xv[cols_to_norm].apply(lambda x: (x - x.min()) / (x.max() - x.min()))\n",
    "\n",
    "Xt = test[['pH','Nisin','Temperature','Brix']]\n",
    "yt = test['Growth'].values\n",
    "cols_to_norm = ['pH','Nisin','Temperature','Brix']\n",
    "Xt[cols_to_norm] = Xt[cols_to_norm].apply(lambda x: (x - x.min()) / (x.max() - x.min()))\n",
    "\n"
   ]
  },
  {
   "cell_type": "code",
   "execution_count": 210,
   "metadata": {},
   "outputs": [
    {
     "data": {
      "image/png": "[encoded data removed]",
      "text/plain": [
       "<Figure size 432x288 with 1 Axes>"
      ]
     },
     "metadata": {},
     "output_type": "display_data"
    },
    {
     "data": {
      "image/png": "[encoded data removed]",
      "text/plain": [
       "<Figure size 432x288 with 1 Axes>"
      ]
     },
     "metadata": {},
     "output_type": "display_data"
    },
    {
     "data": {
      "image/png": "[encoded data removed]",
      "text/plain": [
       "<Figure size 432x288 with 1 Axes>"
      ]
     },
     "metadata": {},
     "output_type": "display_data"
    },
    {
     "data": {
      "image/png": "[encoded data removed]",
      "text/plain": [
       "<Figure size 432x288 with 1 Axes>"
      ]
     },
     "metadata": {},
     "output_type": "display_data"
    }
   ],
   "source": [
    "# plot training data\n",
    "ax1 = train.plot.scatter(x='pH', y ='Growth', c='DarkBlue')\n",
    "ax1 = train.plot.scatter(x='Nisin', y ='Growth', c='red')\n",
    "ax1 = train.plot.scatter(x='Temperature', y ='Growth', c='green')\n",
    "ax1 = train.plot.scatter(x='Brix', y ='Growth', c='yellow')\n",
    "\n",
    "# these plots dont say much...."
   ]
  },
  {
   "cell_type": "code",
   "execution_count": 211,
   "metadata": {},
   "outputs": [],
   "source": [
    "def sigmoid(scores):\n",
    "    return 1 / (1 + np.exp(-scores))\n",
    "\n",
    "def log_likelihood(features, target, weights):\n",
    "    scores = np.dot(features, weights)\n",
    "    ll = np.sum( target*scores - np.log(1 + np.exp(scores)) )\n",
    "    return ll\n",
    "\n",
    "def logistic_regression(features, target, num_steps, learning_rate, penalty):\n",
    "    # add intercept term\n",
    "    intercept = np.ones((features.shape[0], 1))\n",
    "    features = np.hstack((intercept, features))\n",
    "        \n",
    "    weights = np.zeros(features.shape[1])\n",
    "    likelyhood = np.empty(num_steps, dtype=object)\n",
    "    \n",
    "    for step in range(num_steps):\n",
    "        scores = np.dot(features, weights)\n",
    "        predictions = sigmoid(scores)\n",
    "\n",
    "        # Update weights with gradient\n",
    "        output_error_signal = target - predictions\n",
    "        gradient = np.dot(features.T, output_error_signal)\n",
    "        weights += (learning_rate * gradient) - (penalty * weights)\n",
    "        likelyhood[step] = log_likelihood(features, target, weights)\n",
    "    return weights, likelyhood\n",
    "\n",
    "def predict(features, weight):\n",
    "    #add intercept term\n",
    "    intercept = np.ones((features.shape[0], 1))\n",
    "    features = np.hstack((intercept, features))\n",
    "    \n",
    "    # compute with sigmoid\n",
    "    score = (-1) * np.dot(features, weight) # unsure if this is correct\n",
    "    preds = np.round(sigmoid(score))\n",
    "    \n",
    "    return preds"
   ]
  },
  {
   "cell_type": "code",
   "execution_count": 216,
   "metadata": {},
   "outputs": [
    {
     "data": {
      "text/plain": [
       "0.22033898305084745"
      ]
     },
     "execution_count": 216,
     "metadata": {},
     "output_type": "execute_result"
    }
   ],
   "source": [
    "# no penalty\n",
    "log = logistic_regression(X, y, num_steps = 100000, learning_rate = 5e-5, penalty = 0)\n",
    "y1 = predict(X.values, log[0])\n",
    "# % correct\n",
    "per1 = accuracy_score(y, y1)\n",
    "per1"
   ]
  },
  {
   "cell_type": "code",
   "execution_count": 213,
   "metadata": {
    "collapsed": true
   },
   "outputs": [],
   "source": [
    "# for plotting\n",
    "log3 = logistic_regression(X, y, num_steps = 100000, learning_rate = 5e-5, penalty = 0.0001)\n",
    "y3 = predict(X.values, log2[0])"
   ]
  },
  {
   "cell_type": "code",
   "execution_count": 214,
   "metadata": {},
   "outputs": [
    {
     "data": {
      "text/plain": [
       "0.2857142857142857"
      ]
     },
     "execution_count": 214,
     "metadata": {},
     "output_type": "execute_result"
    }
   ],
   "source": [
    "# pick penalty based on validation set\n",
    "log2 = logistic_regression(Xv, yv, num_steps = 100000, learning_rate = 5e-5, penalty = 0.0001)\n",
    "y2 = predict(Xv.values, log2[0])\n",
    "# % correct\n",
    "per2 = accuracy_score(y2, yv)\n",
    "per2"
   ]
  },
  {
   "cell_type": "code",
   "execution_count": 217,
   "metadata": {},
   "outputs": [
    {
     "data": {
      "text/plain": [
       "<matplotlib.legend.Legend at 0x1c1a22ecf8>"
      ]
     },
     "execution_count": 217,
     "metadata": {},
     "output_type": "execute_result"
    },
    {
     "data": {
      "image/png": "[encoded data removed]",
      "text/plain": [
       "<Figure size 432x288 with 1 Axes>"
      ]
     },
     "metadata": {},
     "output_type": "display_data"
    }
   ],
   "source": [
    "# plot log likelyhood for L2 and no penalty\n",
    "fig = plt.figure()\n",
    "ax = plt.axes()\n",
    "x = np.linspace(0, 100000, 100000, endpoint=False)\n",
    "a = ax.plot(x, log[1], label='no penalty')\n",
    "b = ax.plot(x, log3[1], label='L2 penalty')\n",
    "ax.set_ylabel('LogLikelyhood')\n",
    "ax.set_xlabel('Number of Iterations')\n",
    "ax.set_title('LogLikelyhood Converging')\n",
    "plt.legend()\n"
   ]
  },
  {
   "cell_type": "code",
   "execution_count": 220,
   "metadata": {},
   "outputs": [
    {
     "data": {
      "text/plain": [
       "0.0"
      ]
     },
     "execution_count": 220,
     "metadata": {},
     "output_type": "execute_result"
    }
   ],
   "source": [
    "# final score of models on test no penalty\n",
    "log4 = logistic_regression(Xt, yt, num_steps = 100000, learning_rate = 5e-5, penalty = 0)\n",
    "y4 = predict(Xt.values, log4[0])\n",
    "# % correct\n",
    "per4 = accuracy_score(y4, yt)\n",
    "per4 # this was a 0% accuracy :-("
   ]
  },
  {
   "cell_type": "code",
   "execution_count": 221,
   "metadata": {},
   "outputs": [
    {
     "data": {
      "text/plain": [
       "0.0"
      ]
     },
     "execution_count": 221,
     "metadata": {},
     "output_type": "execute_result"
    }
   ],
   "source": [
    "# final score for models on test, with penalty\n",
    "log5 = logistic_regression(Xt, yt, num_steps = 100000, learning_rate = 5e-5, penalty = 0.0001)\n",
    "y5 = predict(Xt.values, log5[0])\n",
    "# % correct\n",
    "per5 = accuracy_score(y5, yt)\n",
    "per5 # this was a 0% accuracy :-("
   ]
  },
  {
   "cell_type": "code",
   "execution_count": null,
   "metadata": {
    "collapsed": true
   },
   "outputs": [],
   "source": []
  }
 ],
 "metadata": {
  "kernelspec": {
   "display_name": "Python [conda env:anaconda3]",
   "language": "python",
   "name": "conda-env-anaconda3-py"
  },
  "language_info": {
   "codemirror_mode": {
    "name": "ipython",
    "version": 3
   },
   "file_extension": ".py",
   "mimetype": "text/x-python",
   "name": "python",
   "nbconvert_exporter": "python",
   "pygments_lexer": "ipython3",
   "version": "3.6.5"
  }
 },
 "nbformat": 4,
 "nbformat_minor": 2
}
